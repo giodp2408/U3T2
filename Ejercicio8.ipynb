{
  "nbformat": 4,
  "nbformat_minor": 0,
  "metadata": {
    "colab": {
      "name": "Ejercicio8.ipynb",
      "provenance": [],
      "authorship_tag": "ABX9TyMTt8jjeGBr52IeuD9gi4Gn",
      "include_colab_link": true
    },
    "kernelspec": {
      "name": "python3",
      "display_name": "Python 3"
    },
    "language_info": {
      "name": "python"
    }
  },
  "cells": [
    {
      "cell_type": "markdown",
      "metadata": {
        "id": "view-in-github",
        "colab_type": "text"
      },
      "source": [
        "<a href=\"https://colab.research.google.com/github/giodp2408/U3T2/blob/main/Ejercicio8.ipynb\" target=\"_parent\"><img src=\"https://colab.research.google.com/assets/colab-badge.svg\" alt=\"Open In Colab\"/></a>"
      ]
    },
    {
      "cell_type": "markdown",
      "metadata": {
        "id": "bXulK61bPLbA"
      },
      "source": [
        "### Ejercicio 8\n",
        "\n",
        "##### Detectar y corregir los errores del siguiente programa que aplica el iva a una factura:"
      ]
    },
    {
      "cell_type": "markdown",
      "metadata": {
        "id": "kuS3v8_2POe_"
      },
      "source": [
        "###### CÓDIGO CON ERRORES"
      ]
    },
    {
      "cell_type": "code",
      "metadata": {
        "id": "xIfJJMMTPNKF"
      },
      "source": [
        "base = input('Introduce la base imponible de la factura: ')\n",
        "print(aplica_iva(base, iva))\n",
        "def aplica_iva(base, iva = 16):\n",
        "  base = base * iva\n",
        "  return base "
      ],
      "execution_count": null,
      "outputs": []
    },
    {
      "cell_type": "markdown",
      "metadata": {
        "id": "fiDbG5GaPO9H"
      },
      "source": [
        "###### CÓDIGO CORREGIDO"
      ]
    },
    {
      "cell_type": "code",
      "metadata": {
        "colab": {
          "base_uri": "https://localhost:8080/"
        },
        "id": "BbrGKcwIPR_o",
        "outputId": "9bbd27d4-cfa7-43e8-c89d-c369dc1e4932"
      },
      "source": [
        "base = float(input('Introduce la base imponible de la factura: '))\n",
        "\n",
        "def aplica_iva(base, iva = 16):\n",
        "  base = base + (base * (iva/100))\n",
        "  return base\n",
        "\n",
        "print(aplica_iva(base))"
      ],
      "execution_count": 7,
      "outputs": [
        {
          "output_type": "stream",
          "text": [
            "Introduce la base imponible de la factura: 1000\n",
            "1160.0\n"
          ],
          "name": "stdout"
        }
      ]
    }
  ]
}