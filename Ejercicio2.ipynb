{
  "nbformat": 4,
  "nbformat_minor": 0,
  "metadata": {
    "colab": {
      "name": "Ejercicio2.ipynb",
      "provenance": [],
      "collapsed_sections": [],
      "authorship_tag": "ABX9TyObgW849AOeHOwoGnyXjcYy",
      "include_colab_link": true
    },
    "kernelspec": {
      "name": "python3",
      "display_name": "Python 3"
    },
    "language_info": {
      "name": "python"
    }
  },
  "cells": [
    {
      "cell_type": "markdown",
      "metadata": {
        "id": "view-in-github",
        "colab_type": "text"
      },
      "source": [
        "<a href=\"https://colab.research.google.com/github/giodp2408/U3T2/blob/main/Ejercicio2.ipynb\" target=\"_parent\"><img src=\"https://colab.research.google.com/assets/colab-badge.svg\" alt=\"Open In Colab\"/></a>"
      ]
    },
    {
      "cell_type": "markdown",
      "metadata": {
        "id": "kyN745pHsL5k"
      },
      "source": [
        "### Ejercicio 2\n",
        "\n",
        "###### Escribir un programa que abra el fichero con información sobre el PIB per cápita de los países de la Unión Europea (url:https://ec.europa.eu/eurostat/estat-navtree-portlet-prod/BulkDownloadListing?file=datos/sdg_08_10.tsv.gz&unzip=true), pregunte por las iniciales de un país y muestre el PIB per cápita de ese país de todos los años disponibles."
      ]
    },
    {
      "cell_type": "code",
      "metadata": {
        "id": "9jpk9kD6sopC",
        "colab": {
          "base_uri": "https://localhost:8080/"
        },
        "outputId": "59a6551f-ca3d-4a45-cb7f-5e0f43d9ed4d"
      },
      "source": [
        "# Definimos la variable que contiene la URL\n",
        "url = \"https://ec.europa.eu/eurostat/estat-navtree-portlet-prod/BulkDownloadListing?file=data/sdg_08_10.tsv.gz&unzip=true\"\n",
        "\n",
        "# Definimos la función que obtiene el PIB de la URL\n",
        "def pib(url, pais):\n",
        "    # Se importa la libreria con la función necesaria para leer datos\n",
        "    from urllib import request\n",
        "    # Se utiliza un Try para evitar errores \n",
        "    try:\n",
        "        # Se abre el URL indicado\n",
        "        f = request.urlopen(url)\n",
        "        # Se crea una variable que mostrará el resultado como una lista\n",
        "        lista = \"El PIB de \" + pais + \": \\n Año \\t PIB \\n\"\n",
        "        # Leer los datos y guardar cada línea en una lista\n",
        "        datos = f.read().decode('utf-8').split('\\n')\n",
        "        # Dividir cada línea por el tabulador\n",
        "        datos = [i.split('\\t') for i in datos]\n",
        "        # Eliminar espacios en blanco\n",
        "        datos = [list(map(str.strip, i)) for i in datos] \n",
        "        # Se usa FOR para obtener y concatenar los datos\n",
        "        for i in datos:\n",
        "            i[0] = i[0].split(',')[-1]\n",
        "        datos[0][0] = 'years'\n",
        "        datos = {i[0]:i[1:] for i in datos}\n",
        "        resul = {datos['years'][i]:datos[pais][i] for i in range(len(datos['years']))}\n",
        "        # Se usa otro FOR para imprimir el resultado en una lista\n",
        "        for colum1, colum2 in resul.items(): \n",
        "          lista = lista + colum1 + \"\\t\" + colum2 + \"\\n\"\n",
        "        return lista\n",
        "    except:\n",
        "        # En caso de una URL o pais invalido, se imprime un mensaje de error\n",
        "        error = \"La URL o el pais introducido es invalido\"\n",
        "        return(error)\n",
        "\n",
        "# Se solicita las iniciales del pais\n",
        "pais = input('Teclea las iniciales de un país: ')\n",
        "# Se imprime el resultado\n",
        "print(pib(url,pais))"
      ],
      "execution_count": 47,
      "outputs": [
        {
          "output_type": "stream",
          "text": [
            "Teclea las iniciales de un país: ES\n",
            "El PIB de ES: \n",
            " Año \t PIB \n",
            "2000\t21460\n",
            "2001\t22190\n",
            "2002\t22430\n",
            "2003\t22680\n",
            "2004\t23020\n",
            "2005\t23420\n",
            "2006\t24000\n",
            "2007\t24380\n",
            "2008\t24200\n",
            "2009\t23100\n",
            "2010\t23040\n",
            "2011\t22770\n",
            "2012\t22080\n",
            "2013\t21840\n",
            "2014\t22210\n",
            "2015\t23080\n",
            "2016\t23760\n",
            "2017\t24430\n",
            "2018\t24910 p\n",
            "2019\t25200 p\n",
            "2020\t22350 p\n",
            "\n"
          ],
          "name": "stdout"
        }
      ]
    }
  ]
}