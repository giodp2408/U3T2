{
  "nbformat": 4,
  "nbformat_minor": 0,
  "metadata": {
    "colab": {
      "name": "Ejercicio4.ipynb",
      "provenance": [],
      "authorship_tag": "ABX9TyOhMo2cgSK6eF6bJvgQcBCM",
      "include_colab_link": true
    },
    "kernelspec": {
      "name": "python3",
      "display_name": "Python 3"
    },
    "language_info": {
      "name": "python"
    }
  },
  "cells": [
    {
      "cell_type": "markdown",
      "metadata": {
        "id": "view-in-github",
        "colab_type": "text"
      },
      "source": [
        "<a href=\"https://colab.research.google.com/github/giodp2408/U3T2/blob/main/Ejercicio4.ipynb\" target=\"_parent\"><img src=\"https://colab.research.google.com/assets/colab-badge.svg\" alt=\"Open In Colab\"/></a>"
      ]
    },
    {
      "cell_type": "markdown",
      "metadata": {
        "id": "m5eUt61y8P14"
      },
      "source": [
        "### Ejercicio 4\n",
        "\n",
        "###### Escribir una función que aplique un descuento a un precio y otra que aplique el IVA a un precio. Escribir una tercera función que reciba un diccionario con los precios y porcentajes de una cesta de la compra, y una de las funciones anteriores, y utilice la función pasada para aplicar los descuentos o el IVA a los productos de la cesta y devolver el precio final de la cesta."
      ]
    },
    {
      "cell_type": "code",
      "metadata": {
        "colab": {
          "base_uri": "https://localhost:8080/"
        },
        "id": "MBQgR7zo8QAl",
        "outputId": "8a74c15f-e0d8-4804-91f6-3a0e79502da7"
      },
      "source": [
        "# Varaible que contiene una lista de productos y su descuento/IVA a aplicar\n",
        "# Los valores pueden ser modificados\n",
        "cesta = {2000:31, 200:45, 160:10}\n",
        "\n",
        "# Se crea la función que realiza el descuento a un producto\n",
        "def mi_descuento(precio, porcentaje):\n",
        "    resultado = precio - precio * porcentaje / 100\n",
        "    return resultado\n",
        "\n",
        "# Se crea la función que aplica IVA a un producto    \n",
        "def mi_iva(precio, porcentaje):\n",
        "    resultado = precio + precio * porcentaje / 100\n",
        "    return resultado\n",
        "\n",
        "# Se crea la función que calcula el IVA/Descuento de una lista\n",
        "# De acuerdo a lo que se solicita, se utiliza la función de IVA o descuento\n",
        "def cesta_compra(cesta, funcion):\n",
        "    total = 0\n",
        "    for precio, desc_porc in cesta.items():\n",
        "        total += funcion(precio, desc_porc)\n",
        "    return total\n",
        "\n",
        "# Se imprime el resultado de una lista de una cesta de compras\n",
        "# Con descuento\n",
        "print('El total con descuento es: ', cesta_compra(cesta, mi_descuento))\n",
        "# Con IVA\n",
        "print('El total con IVA es: ', cesta_compra(cesta, mi_iva))"
      ],
      "execution_count": 7,
      "outputs": [
        {
          "output_type": "stream",
          "text": [
            "El total con descuento es:  1634.0\n",
            "El total con IVA es:  3086.0\n"
          ],
          "name": "stdout"
        }
      ]
    }
  ]
}