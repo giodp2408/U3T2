{
  "nbformat": 4,
  "nbformat_minor": 0,
  "metadata": {
    "colab": {
      "name": "Ejercicio7.ipynb",
      "provenance": [],
      "authorship_tag": "ABX9TyNPNDBYzYLPf5gR5aUiGTRq",
      "include_colab_link": true
    },
    "kernelspec": {
      "name": "python3",
      "display_name": "Python 3"
    },
    "language_info": {
      "name": "python"
    }
  },
  "cells": [
    {
      "cell_type": "markdown",
      "metadata": {
        "id": "view-in-github",
        "colab_type": "text"
      },
      "source": [
        "<a href=\"https://colab.research.google.com/github/giodp2408/U3T2/blob/main/Ejercicio7.ipynb\" target=\"_parent\"><img src=\"https://colab.research.google.com/assets/colab-badge.svg\" alt=\"Open In Colab\"/></a>"
      ]
    },
    {
      "cell_type": "markdown",
      "metadata": {
        "id": "hiRGi3ltOH3R"
      },
      "source": [
        "### Ejercicio 7\n",
        "\n",
        "##### Corregir los errores sintácticos del siguiente programa:"
      ]
    },
    {
      "cell_type": "markdown",
      "metadata": {
        "id": "0NdCpcHPOOmY"
      },
      "source": [
        "###### CÓDIGO CON ERRORES"
      ]
    },
    {
      "cell_type": "code",
      "metadata": {
        "id": "McOfg6_gOH-u"
      },
      "source": [
        "contraseña = input('Introduce la contraseña: \")\n",
        "if contraseña in ['sesamo'):\n",
        "  print('Pasa')\n",
        "else\n",
        "  print('No pasa')"
      ],
      "execution_count": 1,
      "outputs": []
    },
    {
      "cell_type": "markdown",
      "metadata": {
        "id": "Qqvv7vBPOmUl"
      },
      "source": [
        "###### CÓDIGO CORREGIDO"
      ]
    },
    {
      "cell_type": "code",
      "metadata": {
        "colab": {
          "base_uri": "https://localhost:8080/"
        },
        "id": "FPhaJP-pOlI7",
        "outputId": "fda84267-0b08-49a9-da42-294c270278ff"
      },
      "source": [
        "contraseña = input('Introduce la contraseña: ')\n",
        "if contraseña in ('sesamo'):\n",
        "  print('Pasa')\n",
        "else:\n",
        "  print('No pasa')"
      ],
      "execution_count": 3,
      "outputs": [
        {
          "output_type": "stream",
          "text": [
            "Introduce la contraseña: sesamo\n",
            "Pasa\n"
          ],
          "name": "stdout"
        }
      ]
    }
  ]
}