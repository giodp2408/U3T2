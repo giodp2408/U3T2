{
  "nbformat": 4,
  "nbformat_minor": 0,
  "metadata": {
    "colab": {
      "name": "Ejercicio6.ipynb",
      "provenance": [],
      "collapsed_sections": [],
      "authorship_tag": "ABX9TyOGs1jOl+nE/OOjg0PiYgoF",
      "include_colab_link": true
    },
    "kernelspec": {
      "name": "python3",
      "display_name": "Python 3"
    },
    "language_info": {
      "name": "python"
    }
  },
  "cells": [
    {
      "cell_type": "markdown",
      "metadata": {
        "id": "view-in-github",
        "colab_type": "text"
      },
      "source": [
        "<a href=\"https://colab.research.google.com/github/giodp2408/U3T2/blob/main/Ejercicio6.ipynb\" target=\"_parent\"><img src=\"https://colab.research.google.com/assets/colab-badge.svg\" alt=\"Open In Colab\"/></a>"
      ]
    },
    {
      "cell_type": "markdown",
      "metadata": {
        "id": "ghXuZ4_aFypV"
      },
      "source": [
        "### Ejercicio 6\n",
        "\n",
        "###### Escribir una función reciba una lista de notas y devuelva la lista de calificaciones correspondientes a esas notas."
      ]
    },
    {
      "cell_type": "code",
      "metadata": {
        "colab": {
          "base_uri": "https://localhost:8080/"
        },
        "id": "xfnpRUUFF4MW",
        "outputId": "aa745ae9-961d-42ed-b88c-739d3723b143"
      },
      "source": [
        "# Se crea la variable que contiene las calificaciones\n",
        "# Se puede modificar\n",
        "lista_calif = [9.2,7.9,9.9,10,8.9,8.5,9.1,6.7,8.2,6]\n",
        "\n",
        "# Se crea la funcion que da los resultados\n",
        "def calif_resul(lista_calif):\n",
        "  # A traves de If, evalua si la calificacion\n",
        "  # Entra en la misma condicional\n",
        "  resul = []\n",
        "  for i in lista_calif:\n",
        "    if i == 10:\n",
        "      resul += \"Excelente\",\n",
        "    if i < 9.9 and i > 8.4:\n",
        "      resul += \"Sobresaliente\",\n",
        "    if i < 8.5 and i > 7.4:\n",
        "      resul += \"Aceptable\",\n",
        "    if i < 7.5 and i > 6.4:\n",
        "      resul += \"Insuficiente\",\n",
        "    if i < 6.5:\n",
        "      resul += \"Deficiente\",\n",
        "  return resul\n",
        "\n",
        "# Se imprime el resultado\n",
        "print(\"La lista de resultados de las calificaciones es: \")\n",
        "calif_resul(lista_calif)"
      ],
      "execution_count": 27,
      "outputs": [
        {
          "output_type": "stream",
          "text": [
            "La lista de resultados de las calificaciones es: \n"
          ],
          "name": "stdout"
        },
        {
          "output_type": "execute_result",
          "data": {
            "text/plain": [
              "['Sobresaliente',\n",
              " 'Aceptable',\n",
              " 'Excelente',\n",
              " 'Sobresaliente',\n",
              " 'Sobresaliente',\n",
              " 'Sobresaliente',\n",
              " 'Insuficiente',\n",
              " 'Aceptable',\n",
              " 'Deficiente']"
            ]
          },
          "metadata": {
            "tags": []
          },
          "execution_count": 27
        }
      ]
    }
  ]
}