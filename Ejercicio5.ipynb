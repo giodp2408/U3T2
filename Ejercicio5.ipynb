{
  "nbformat": 4,
  "nbformat_minor": 0,
  "metadata": {
    "colab": {
      "name": "Ejercicio5.ipynb",
      "provenance": [],
      "collapsed_sections": [],
      "authorship_tag": "ABX9TyMed9n5bjFhA/BtDi5MapKL",
      "include_colab_link": true
    },
    "kernelspec": {
      "name": "python3",
      "display_name": "Python 3"
    },
    "language_info": {
      "name": "python"
    }
  },
  "cells": [
    {
      "cell_type": "markdown",
      "metadata": {
        "id": "view-in-github",
        "colab_type": "text"
      },
      "source": [
        "<a href=\"https://colab.research.google.com/github/giodp2408/U3T2/blob/main/Ejercicio5.ipynb\" target=\"_parent\"><img src=\"https://colab.research.google.com/assets/colab-badge.svg\" alt=\"Open In Colab\"/></a>"
      ]
    },
    {
      "cell_type": "markdown",
      "metadata": {
        "id": "eSuTTeLjBFE4"
      },
      "source": [
        "### Ejercicio 5\n",
        "\n",
        "###### Escribir una función que simule una calculadora científica que permita calcular el seno, coseno, tangente, exponencial y logaritmo neperiano. La función preguntará al usuario el valor y la función a aplicar, y mostrará por pantalla una tabla con los enteros de 1 al valor introducido y el resultado de aplicar la función a esos enteros."
      ]
    },
    {
      "cell_type": "code",
      "metadata": {
        "colab": {
          "base_uri": "https://localhost:8080/"
        },
        "id": "RDAu_gYxBPec",
        "outputId": "c8c58c9a-ad2c-4e06-ed2d-b859d6268999"
      },
      "source": [
        "from math import sin, cos, tan, exp, log\n",
        "\n",
        "def calculadora():\n",
        "    try:\n",
        "      funcion = input(\"Teclea la función a aplicar (sin, cos, tan, exp, log): \")\n",
        "      num = int(input(\"Teclea un numero sin decimal: \"))\n",
        "      funciones = {\"sin\":sin, \"cos\":cos, \"tan\":tan, \"exp\":exp, \"log\":log}\n",
        "      result = {}\n",
        "      for i in range(1, num+1):\n",
        "        result[i] = funciones[funcion](i)\n",
        "      print(\"\\nEl resultado es: \")\n",
        "      for i, j in result.items():\n",
        "        print(i, \" --> \", j)\n",
        "      return\n",
        "    except:\n",
        "      print(\"\\n ERROR: Valores introducidos no validos.\")\n",
        "      return\n",
        "\n",
        "calculadora()"
      ],
      "execution_count": 5,
      "outputs": [
        {
          "output_type": "stream",
          "text": [
            "Teclea la función a aplicar (sin, cos, tan, exp, log): log\n",
            "Teclea un numero sin decimal: 10\n",
            "\n",
            "El resultado es: \n",
            "1  -->  0.0\n",
            "2  -->  0.6931471805599453\n",
            "3  -->  1.0986122886681098\n",
            "4  -->  1.3862943611198906\n",
            "5  -->  1.6094379124341003\n",
            "6  -->  1.791759469228055\n",
            "7  -->  1.9459101490553132\n",
            "8  -->  2.0794415416798357\n",
            "9  -->  2.1972245773362196\n",
            "10  -->  2.302585092994046\n"
          ],
          "name": "stdout"
        }
      ]
    }
  ]
}