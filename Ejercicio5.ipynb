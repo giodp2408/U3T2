{
  "nbformat": 4,
  "nbformat_minor": 0,
  "metadata": {
    "colab": {
      "name": "Ejercicio5.ipynb",
      "provenance": [],
      "collapsed_sections": [],
      "authorship_tag": "ABX9TyOse58gO62dA0JUu7+ml48A",
      "include_colab_link": true
    },
    "kernelspec": {
      "name": "python3",
      "display_name": "Python 3"
    },
    "language_info": {
      "name": "python"
    }
  },
  "cells": [
    {
      "cell_type": "markdown",
      "metadata": {
        "id": "view-in-github",
        "colab_type": "text"
      },
      "source": [
        "<a href=\"https://colab.research.google.com/github/giodp2408/U3T2/blob/main/Ejercicio5.ipynb\" target=\"_parent\"><img src=\"https://colab.research.google.com/assets/colab-badge.svg\" alt=\"Open In Colab\"/></a>"
      ]
    },
    {
      "cell_type": "markdown",
      "metadata": {
        "id": "eSuTTeLjBFE4"
      },
      "source": [
        "### Ejercicio 5\n",
        "\n",
        "###### Escribir una función que simule una calculadora científica que permita calcular el seno, coseno, tangente, exponencial y logaritmo neperiano. La función preguntará al usuario el valor y la función a aplicar, y mostrará por pantalla una tabla con los enteros de 1 al valor introducido y el resultado de aplicar la función a esos enteros."
      ]
    },
    {
      "cell_type": "code",
      "metadata": {
        "colab": {
          "base_uri": "https://localhost:8080/"
        },
        "id": "RDAu_gYxBPec",
        "outputId": "71e8a514-e4b4-45fd-ab96-ccd37efd3fa4"
      },
      "source": [
        "# Se importa la libreria que realiza las operaciones solicitadas\n",
        "from math import sin, cos, tan, exp, log\n",
        "\n",
        "# Se crea la función que hara de calculadora\n",
        "def calculadora():\n",
        "    # Con try, se intenta realizar las operaciones\n",
        "    try:\n",
        "      # Se solicita la función matematica a utilizar y el numero entero\n",
        "      funcion = input(\"Teclea la función a aplicar (sin, cos, tan, exp, log): \")\n",
        "      num = int(input(\"Teclea un numero sin decimal: \"))\n",
        "      # Se crean diccionarios que serviran en el codigo\n",
        "      funciones = {\"sin\":sin, \"cos\":cos, \"tan\":tan, \"exp\":exp, \"log\":log}\n",
        "      result = {}\n",
        "      # Con el primero FOR, se realizan las operaciones \n",
        "      # con el numero y la función solicitadas\n",
        "      for i in range(1, num+1):\n",
        "        result[i] = funciones[funcion](i)\n",
        "      # Con el segundo FOR, se imprime a manera de lista, el resultado\n",
        "      print(\"\\nEl resultado es: \")\n",
        "      for i, j in result.items():\n",
        "        print(i, \" --> \", j)\n",
        "      return\n",
        "    # En caso de valores no validos, imprime este mensaje.\n",
        "    except:\n",
        "      print(\"\\n ERROR: Valores introducidos no validos.\")\n",
        "      return\n",
        "\n",
        "calculadora()"
      ],
      "execution_count": 6,
      "outputs": [
        {
          "output_type": "stream",
          "text": [
            "Teclea la función a aplicar (sin, cos, tan, exp, log): log\n",
            "Teclea un numero sin decimal: 15\n",
            "\n",
            "El resultado es: \n",
            "1  -->  0.0\n",
            "2  -->  0.6931471805599453\n",
            "3  -->  1.0986122886681098\n",
            "4  -->  1.3862943611198906\n",
            "5  -->  1.6094379124341003\n",
            "6  -->  1.791759469228055\n",
            "7  -->  1.9459101490553132\n",
            "8  -->  2.0794415416798357\n",
            "9  -->  2.1972245773362196\n",
            "10  -->  2.302585092994046\n",
            "11  -->  2.3978952727983707\n",
            "12  -->  2.4849066497880004\n",
            "13  -->  2.5649493574615367\n",
            "14  -->  2.6390573296152584\n",
            "15  -->  2.70805020110221\n"
          ],
          "name": "stdout"
        }
      ]
    }
  ]
}