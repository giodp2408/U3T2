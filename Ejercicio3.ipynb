{
  "nbformat": 4,
  "nbformat_minor": 0,
  "metadata": {
    "colab": {
      "name": "Ejercicio3.ipynb",
      "provenance": [],
      "collapsed_sections": [],
      "authorship_tag": "ABX9TyNvJ6ergYxFJvEcCQPdERiW",
      "include_colab_link": true
    },
    "kernelspec": {
      "name": "python3",
      "display_name": "Python 3"
    },
    "language_info": {
      "name": "python"
    }
  },
  "cells": [
    {
      "cell_type": "markdown",
      "metadata": {
        "id": "view-in-github",
        "colab_type": "text"
      },
      "source": [
        "<a href=\"https://colab.research.google.com/github/giodp2408/U3T2/blob/main/Ejercicio3.ipynb\" target=\"_parent\"><img src=\"https://colab.research.google.com/assets/colab-badge.svg\" alt=\"Open In Colab\"/></a>"
      ]
    },
    {
      "cell_type": "markdown",
      "metadata": {
        "id": "ahoEu3IRz78T"
      },
      "source": [
        "### Ejercicio 3\n",
        "\n",
        "###### Escribir un programa para gestionar un listín telefónico con los nombres y los teléfonos de los clientes de una empresa. El programa incorpora funciones: crear el fichero con el listín si no existe, para consultar el teléfono de un cliente, añadir el teléfono de un nuevo cliente y eliminar el teléfono de un cliente. El listín debe estar guardado en el fichero de texto listin.txtdonde el nombre del cliente y su teléfono deben aparecer separados por comas y cada cliente en una línea distinta."
      ]
    },
    {
      "cell_type": "markdown",
      "metadata": {
        "id": "-Ls9aLI07mY4"
      },
      "source": [
        "##### *FUNCIONES*"
      ]
    },
    {
      "cell_type": "code",
      "metadata": {
        "id": "EcKIQz2W7ltY"
      },
      "source": [
        "# Ejecutar este bloque si desea iniciar el programa\n",
        "\n",
        "def iniciar_menu():\n",
        "  lista = \"listin.txt\"\n",
        "  print(\"Para crear lista, teclee 1\")\n",
        "  print(\"Para guardar, teclee 2\")\n",
        "  print(\"Para eliminar, teclee 3\")\n",
        "  print(\"Para consultar, teclee 4\")\n",
        "  print(\"Para terminar, teclee cualquier tecla diferente\")\n",
        "  num = input(\"¿Qué realizará? \")\n",
        "    \n",
        "  if num == \"1\":\n",
        "    crear_lista(lista)\n",
        "  if num == \"2\":\n",
        "    guardar_lista(lista)\n",
        "  if num == \"3\":\n",
        "    borrar_lista(lista)\n",
        "  if num == \"4\":\n",
        "    consultar_lista(lista)\n",
        "  return\n",
        "\n",
        "#CREAR LISTA\n",
        "\n",
        "# Se crea la función para crear un archivo lista\n",
        "def crear_lista(lista):\n",
        "  # Se importa la libreria\n",
        "  import os\n",
        "  # Con IF, se verifica si el archivo existe\n",
        "  if os.path.isfile(lista):\n",
        "    # Si es verdadero, se pregunta al usuario si se desea vaciar\n",
        "    pregunta = input(\"Lista existente. ¿Se requiere vaciarlo? (S/N): \")\n",
        "    # Otro IF, si la respuesta es No, se evita crear el archivo\n",
        "    if pregunta == \"N\":\n",
        "      print(\"MENSAJE: No se ha creado la lista porque ya existe.\\n\")\n",
        "      return iniciar_menu()\n",
        "  # En caso contrario, se crea un archivo nuevo\n",
        "  f = open(lista, \"w\")\n",
        "  # Se termina de utiliza el archivo\n",
        "  f.close()\n",
        "  print(\"MENSAJE: Se ha creado la lista.\\n\")\n",
        "  return iniciar_menu()\n",
        "\n",
        "#GUARDAR UN NUMERO EN LA LISTA\n",
        "\n",
        "# Se crea función para guardar un numero en la lista\n",
        "def guardar_lista(lista):\n",
        "  # Se solicita el nombre y telefono para guardar\n",
        "  nombre = input(\"Teclea el nombre del cliente: \")\n",
        "  telefono = input(\"Teclea el teléfono del cliente: \")\n",
        "  # Se usa un Try que intente realizar la función\n",
        "  try: \n",
        "    # Se abre el archivo\n",
        "    f = open(lista, \"a\")\n",
        "    # Se inserta el telefono y cliente en el archivo\n",
        "    f.write(nombre + \",\" + telefono + \" \\n\")\n",
        "    # Se cierra el archivo\n",
        "    f.close()\n",
        "    print(\"MENSAJE: El teléfono se ha añadido.\\n\")\n",
        "    return iniciar_menu()\n",
        "  except:\n",
        "        # En caso de que no exista el archivo, imprime mensaje de error\n",
        "        print(\"MENSAJE: El archivo no existe.\\n\")\n",
        "        return iniciar_menu()\n",
        "\n",
        "#BORRAR UN NUMERO EN LA LISTA\n",
        "\n",
        "# Se crea la función para borrar un cliente de la lista\n",
        "def borrar_lista(archivo):\n",
        "    # Se solicita el nombre del cliente a borrar\n",
        "    nombre = input('Teclea el nombre del cliente: ')\n",
        "    # Se utiliza un Try para intentar borrar el registro\n",
        "    try: \n",
        "        # Se abre el archivo\n",
        "        f = open(archivo, 'r')\n",
        "        # Se lee el archivo y se almacena en una variable como directorio\n",
        "        directory = f.readlines()\n",
        "        # Se cierra el archivo\n",
        "        f.close()\n",
        "        # El directorio creado anteriormente se vuelve una tupla\n",
        "        directory = dict([tuple(line.split(',')) for line in directory])\n",
        "        # Con If se condiciona si existe el nombre en la tupla\n",
        "        if nombre in directory:\n",
        "            # Si es verdad, se elimina de la tupla\n",
        "            del directory[nombre]\n",
        "            # Se abre el archivo del listin de nuevo\n",
        "            f = open(archivo, 'w')\n",
        "            # Se sobreescribe el archivo con los datos de la tupla\n",
        "            for nombre, telef in directory.items():\n",
        "                f.write(nombre + ',' + telef)\n",
        "            f.close()\n",
        "            # Se cierra el archivo y finaliza la función\n",
        "            print('MENSAJE: ¡El nombre se ha borrado!\\n')\n",
        "            return iniciar_menu()\n",
        "        else:\n",
        "            # En caso de que no exista el cliente, se imprime este mensaje\n",
        "            print('MENSAJE: ¡El nombre ' + nombre + ' no existe!\\n')\n",
        "            return iniciar_menu()\n",
        "    except:\n",
        "        # En caso de que no exista el archivo, se imprime este mensaje\n",
        "        print('MENSAJE: ¡La lista ' + archivo + ' no existe!\\n')\n",
        "        return iniciar_menu()\n",
        "\n",
        "#CONSULTAR UN NUMERO EN LA LISTA\n",
        "\n",
        "# Se crea la función para consultar un numero de un cliente\n",
        "def consultar_lista(archivo):\n",
        "    # Se pregunta el nombre del cliente\n",
        "    nombre = input('Teclea el nombre del cliente: ')\n",
        "    # Se usa un Try para intentar realizar la función\n",
        "    try: \n",
        "        # Se abre el archivo\n",
        "        f = open(archivo, 'r')\n",
        "        # Se lee el archivo y se almacena en una variable como directorio\n",
        "        directory = f.readlines()\n",
        "        # Se cierra el archivo\n",
        "        f.close()\n",
        "        # El directorio se convierte en una tupla\n",
        "        directory = dict([tuple(line.split(',')) for line in directory])\n",
        "        # Con if, si el nombre existe, imprime el numero\n",
        "        if nombre in directory:\n",
        "            print(\"MENSAJE: El número es \", directory[nombre])\n",
        "            return iniciar_menu()\n",
        "        # En caso contrario, imprime que no se encontro\n",
        "        else:\n",
        "            print('MENSAJE: ¡El cliente ' + nombre + ' no existe!\\n')\n",
        "            return iniciar_menu()\n",
        "    except:\n",
        "        # En caso de que no exista el archivo, se imprime el mensaje\n",
        "        print('MENSAJE: ¡La lista ' + archivo + ' no existe!\\n')\n",
        "        return iniciar_menu()"
      ],
      "execution_count": 61,
      "outputs": []
    },
    {
      "cell_type": "markdown",
      "metadata": {
        "id": "Dd1l_HCl4otb"
      },
      "source": [
        "###### *PROGRAMA \"LISTIN TELEFONICO\"*"
      ]
    },
    {
      "cell_type": "code",
      "metadata": {
        "colab": {
          "base_uri": "https://localhost:8080/"
        },
        "id": "aiLprC0lD5Dq",
        "outputId": "642f30d0-2f93-4374-8c76-4b9f5b2b4d70"
      },
      "source": [
        "print(\"Mi listin telefonico\\n\")\n",
        "iniciar_menu()\n",
        "print(\"\\n¡Adios!\")"
      ],
      "execution_count": 63,
      "outputs": [
        {
          "output_type": "stream",
          "text": [
            "Mi listin telefonico\n",
            "\n",
            "Para crear lista, teclee 1\n",
            "Para guardar, teclee 2\n",
            "Para eliminar, teclee 3\n",
            "Para consultar, teclee 4\n",
            "Para terminar, teclee cualquier tecla diferente\n",
            "¿Qué realizará? 1\n",
            "Lista existente. ¿Se requiere vaciarlo? (S/N): S\n",
            "MENSAJE: Se ha creado la lista.\n",
            "\n",
            "Para crear lista, teclee 1\n",
            "Para guardar, teclee 2\n",
            "Para eliminar, teclee 3\n",
            "Para consultar, teclee 4\n",
            "Para terminar, teclee cualquier tecla diferente\n",
            "¿Qué realizará? 2\n",
            "Teclea el nombre del cliente: Gio\n",
            "Teclea el teléfono del cliente: 999204000\n",
            "MENSAJE: El teléfono se ha añadido.\n",
            "\n",
            "Para crear lista, teclee 1\n",
            "Para guardar, teclee 2\n",
            "Para eliminar, teclee 3\n",
            "Para consultar, teclee 4\n",
            "Para terminar, teclee cualquier tecla diferente\n",
            "¿Qué realizará? 4\n",
            "Teclea el nombre del cliente: Gio\n",
            "MENSAJE: El número es  999204000 \n",
            "\n",
            "Para crear lista, teclee 1\n",
            "Para guardar, teclee 2\n",
            "Para eliminar, teclee 3\n",
            "Para consultar, teclee 4\n",
            "Para terminar, teclee cualquier tecla diferente\n",
            "¿Qué realizará? 3\n",
            "Teclea el nombre del cliente: Gio\n",
            "MENSAJE: ¡El nombre se ha borrado!\n",
            "\n",
            "Para crear lista, teclee 1\n",
            "Para guardar, teclee 2\n",
            "Para eliminar, teclee 3\n",
            "Para consultar, teclee 4\n",
            "Para terminar, teclee cualquier tecla diferente\n",
            "¿Qué realizará? 0\n",
            "\n",
            "¡Adios!\n"
          ],
          "name": "stdout"
        }
      ]
    }
  ]
}