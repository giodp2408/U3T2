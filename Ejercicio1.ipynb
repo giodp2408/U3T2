{
  "nbformat": 4,
  "nbformat_minor": 0,
  "metadata": {
    "colab": {
      "name": "Ejercicio1.ipynb",
      "provenance": [],
      "collapsed_sections": [],
      "authorship_tag": "ABX9TyPuXwQj5ZfzXjNEST+BdvnW",
      "include_colab_link": true
    },
    "kernelspec": {
      "name": "python3",
      "display_name": "Python 3"
    },
    "language_info": {
      "name": "python"
    }
  },
  "cells": [
    {
      "cell_type": "markdown",
      "metadata": {
        "id": "view-in-github",
        "colab_type": "text"
      },
      "source": [
        "<a href=\"https://colab.research.google.com/github/giodp2408/U3T2/blob/main/Ejercicio1.ipynb\" target=\"_parent\"><img src=\"https://colab.research.google.com/assets/colab-badge.svg\" alt=\"Open In Colab\"/></a>"
      ]
    },
    {
      "cell_type": "markdown",
      "metadata": {
        "id": "lZ37B5uemPqG"
      },
      "source": [
        "### Ejercicio 1\n",
        "\n",
        "###### Escribir un programa que acceda a un fichero de internet mediante su url y muestre por pantalla el número de palabras que contiene."
      ]
    },
    {
      "cell_type": "code",
      "metadata": {
        "colab": {
          "base_uri": "https://localhost:8080/"
        },
        "id": "k1U6V7S_nSDG",
        "outputId": "e5a79001-4c47-42d0-8f24-05b76b6b38de"
      },
      "source": [
        "# Definimos la variable que contiene la URL\n",
        "# El valor es modificable\n",
        "url = \"https://raw.githubusercontent.com/giodp2408/U3T2/main/archivo.txt\"\n",
        "\n",
        "# Función que realiza el conteo de palabras\n",
        "def conteo(url):\n",
        "    # Se importa la libreria de conteo \n",
        "    from urllib import request\n",
        "    # Se utiliza un try para intentar utilizar la URL\n",
        "    try:\n",
        "        # Se abre el archivo de la URL\n",
        "        file = request.urlopen(url)\n",
        "        # Se lee el archivo de la URL\n",
        "        content = file.read()\n",
        "        # Con split() separa las palabras y len() las cuenta\n",
        "        resultado = \"El número de palabras es: \" + str(len(content.split()))\n",
        "        return resultado\n",
        "    except:\n",
        "        # En caso de error, imprime que hubo alguno con la URL\n",
        "        resultado = \"La URL introducida es invalida\"\n",
        "        return resultado\n",
        "\n",
        "# Se imprime el resultado del programa\n",
        "print(conteo(url))"
      ],
      "execution_count": 14,
      "outputs": [
        {
          "output_type": "stream",
          "text": [
            "El número de palabras es: 310\n"
          ],
          "name": "stdout"
        }
      ]
    }
  ]
}