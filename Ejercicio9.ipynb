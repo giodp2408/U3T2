{
  "nbformat": 4,
  "nbformat_minor": 0,
  "metadata": {
    "colab": {
      "name": "Ejercicio9.ipynb",
      "provenance": [],
      "authorship_tag": "ABX9TyN1JZNrTxZhnshq8nsHuAGV",
      "include_colab_link": true
    },
    "kernelspec": {
      "name": "python3",
      "display_name": "Python 3"
    },
    "language_info": {
      "name": "python"
    }
  },
  "cells": [
    {
      "cell_type": "markdown",
      "metadata": {
        "id": "view-in-github",
        "colab_type": "text"
      },
      "source": [
        "<a href=\"https://colab.research.google.com/github/giodp2408/U3T2/blob/main/Ejercicio9.ipynb\" target=\"_parent\"><img src=\"https://colab.research.google.com/assets/colab-badge.svg\" alt=\"Open In Colab\"/></a>"
      ]
    },
    {
      "cell_type": "markdown",
      "metadata": {
        "id": "kNoQFJpISb1o"
      },
      "source": [
        "### Ejercicio 9\n",
        "\n",
        "##### Detectar y corregir los errores del siguiente programa que multiplica dos matrices:"
      ]
    },
    {
      "cell_type": "markdown",
      "metadata": {
        "id": "xn3tYUGVStOY"
      },
      "source": [
        "###### CÓDIGO CON ERRORES"
      ]
    },
    {
      "cell_type": "code",
      "metadata": {
        "id": "xTgwWhxeScBp"
      },
      "source": [
        "a = ((1, 2, 3),(3, 2, 1))\n",
        "b = ((1, 2),(3, 4),(5, 6))\n",
        "def producto(a, b):\n",
        "  producto = []\n",
        "  for i in range(len(b)):\n",
        "    fila = [] \n",
        "    for j in range(len(a[0])):\n",
        "      suma = 0\n",
        "      for k in range(len(a[0]+1)):\n",
        "        suma += a[i][k] * b[k+1][j]\n",
        "      fila[j] = suma\n",
        "    producto[i] = tuple(fila)\n",
        "  return tuple(producto)\n",
        "print(producto(a, b))"
      ],
      "execution_count": null,
      "outputs": []
    },
    {
      "cell_type": "markdown",
      "metadata": {
        "id": "Vn4t6TAZSwwh"
      },
      "source": [
        "###### CÓDIGO CORREGIDO"
      ]
    },
    {
      "cell_type": "code",
      "metadata": {
        "colab": {
          "base_uri": "https://localhost:8080/"
        },
        "id": "15-M6NxgSzuc",
        "outputId": "97065d6d-a323-45cc-8346-963ac12f0a16"
      },
      "source": [
        "a = ((1, 2, 3),(3, 2, 1))\n",
        "b = ((1, 2),(3, 4),(5, 6))\n",
        "def producto(a, b):\n",
        "    producto = []\n",
        "    for i in range(len(a)):\n",
        "        fila = [] \n",
        "        for j in range(len(b[0])):\n",
        "            suma = 0\n",
        "            for k in range(len(a[0])): \n",
        "                suma += a[i][k] * b[k][j]\n",
        "            fila.append(suma) \n",
        "        producto.append(tuple(fila)) \n",
        "    return tuple(producto)\n",
        "print(producto(a, b))"
      ],
      "execution_count": 5,
      "outputs": [
        {
          "output_type": "stream",
          "text": [
            "((22, 28), (14, 20))\n"
          ],
          "name": "stdout"
        }
      ]
    }
  ]
}