{
  "nbformat": 4,
  "nbformat_minor": 0,
  "metadata": {
    "colab": {
      "name": "Ejercicio10.ipynb",
      "provenance": [],
      "collapsed_sections": [],
      "authorship_tag": "ABX9TyP+j9zZtxCuwL49LsCvBeH8",
      "include_colab_link": true
    },
    "kernelspec": {
      "name": "python3",
      "display_name": "Python 3"
    },
    "language_info": {
      "name": "python"
    }
  },
  "cells": [
    {
      "cell_type": "markdown",
      "metadata": {
        "id": "view-in-github",
        "colab_type": "text"
      },
      "source": [
        "<a href=\"https://colab.research.google.com/github/giodp2408/U3T2/blob/main/Ejercicio10.ipynb\" target=\"_parent\"><img src=\"https://colab.research.google.com/assets/colab-badge.svg\" alt=\"Open In Colab\"/></a>"
      ]
    },
    {
      "cell_type": "markdown",
      "metadata": {
        "id": "52qe3Mu7XLE-"
      },
      "source": [
        "### Ejercicio 10\n",
        "\n",
        "##### Detectar y corregir los errores del siguiente programa que calcula el producto escalar de dos vectores:"
      ]
    },
    {
      "cell_type": "markdown",
      "metadata": {
        "id": "idOEwgkDXLMV"
      },
      "source": [
        "#### CÓDIGO CON ERRORES"
      ]
    },
    {
      "cell_type": "code",
      "metadata": {
        "id": "cEIZswiUXLW1"
      },
      "source": [
        "u = (1, 2, 3)\n",
        "v = (4, 5, 6)\n",
        "\n",
        "def producto_escalar(u, v):\n",
        "  for i in u:\n",
        "    u[i+1] *= v[i+1]\n",
        "  return sum(u)\n",
        "print(producto_escalar(u, v))"
      ],
      "execution_count": null,
      "outputs": []
    },
    {
      "cell_type": "markdown",
      "metadata": {
        "id": "_w16waTRXLf1"
      },
      "source": [
        "#### CÓDIGO CORREGIDO"
      ]
    },
    {
      "cell_type": "code",
      "metadata": {
        "colab": {
          "base_uri": "https://localhost:8080/"
        },
        "id": "PJlDamIQXLqW",
        "outputId": "f75b8846-2706-4eba-835b-818130f6429c"
      },
      "source": [
        "u = [1, 2, 3]\n",
        "v = [4, 5, 6]\n",
        "\n",
        "def producto_escalar(u, v):\n",
        "  for i in range(len(u)): \n",
        "    u[i] *= v[i] \n",
        "  return sum(u) \n",
        "print(producto_escalar(u, v))"
      ],
      "execution_count": 1,
      "outputs": [
        {
          "output_type": "stream",
          "text": [
            "32\n"
          ],
          "name": "stdout"
        }
      ]
    }
  ]
}